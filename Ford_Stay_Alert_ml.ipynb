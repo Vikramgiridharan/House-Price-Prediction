{
  "nbformat": 4,
  "nbformat_minor": 0,
  "metadata": {
    "colab": {
      "provenance": [],
      "toc_visible": true
    },
    "kernelspec": {
      "name": "python3",
      "display_name": "Python 3"
    },
    "language_info": {
      "name": "python"
    }
  },
  "cells": [
    {
      "cell_type": "markdown",
      "source": [
        "# Approachs"
      ],
      "metadata": {
        "id": "ZmxmbAihczio"
      }
    },
    {
      "cell_type": "markdown",
      "source": [
        "1.Load the data and libraries\n",
        "\n",
        "2.Data Preparation and Data Transformation\n",
        "\n",
        "3.Data Visualization\n",
        "\n",
        "4.Data Analysis\n",
        "\n",
        "   Uni Variate\n",
        "   Bi- Variate\n",
        "   Multi- Variate\n",
        "\n",
        "5.Classification\n",
        "\n",
        "6.Logistic Regression\n",
        "\n",
        "7.Decision Tree\n",
        "\n",
        "8.Random Forest\n",
        "\n",
        "9.Boosting\n",
        "\n",
        "Evaluate the model\n",
        "\n",
        "*Apply the model to test data\n",
        "\n",
        "*Evaluate results using the submission data\n",
        "\n",
        "*Dataset Name: Ford Stay Alert\n",
        "\n",
        "*Author: VIKRAM\n",
        "\n",
        "*Date: 23/02/2024\n",
        "\n",
        "*Version: 1"
      ],
      "metadata": {
        "id": "VrlGQ-OEbJ-N"
      }
    },
    {
      "cell_type": "markdown",
      "source": [
        "# LOAD THE LIBRARY"
      ],
      "metadata": {
        "id": "xqPAA1FfdZ31"
      }
    },
    {
      "cell_type": "code",
      "source": [
        "import pandas as pd\n",
        "import numpy as np\n",
        "import matplotlib.pyplot as plt\n",
        "import seaborn as sns\n",
        "from sklearn.model_selection import train_test_split\n",
        "from sklearn.linear_model import LogisticRegression\n",
        "from sklearn.tree import DecisionTreeClassifier\n",
        "from sklearn.ensemble import RandomForestClassifier, AdaBoostClassifier, GradientBoostingClassifier\n",
        "from sklearn.metrics import accuracy_score, classification_report, confusion_matrix"
      ],
      "metadata": {
        "id": "TkOauFvUc7wo"
      },
      "execution_count": null,
      "outputs": []
    },
    {
      "cell_type": "markdown",
      "source": [
        "Load the dataset"
      ],
      "metadata": {
        "id": "mvXRlZm8do7P"
      }
    },
    {
      "cell_type": "code",
      "source": [
        "!unzip '/content/stayalert (4).zip'"
      ],
      "metadata": {
        "colab": {
          "base_uri": "https://localhost:8080/"
        },
        "id": "QNuDk3oldDyY",
        "outputId": "447af44e-c8b6-496c-c5b9-b9dacb812077"
      },
      "execution_count": null,
      "outputs": [
        {
          "output_type": "stream",
          "name": "stdout",
          "text": [
            "Archive:  /content/stayalert (4).zip\n",
            "  inflating: Solution.csv            \n",
            "  inflating: example_submission.csv  \n",
            "  inflating: fordTest.csv            \n",
            "  inflating: fordTrain.csv           \n"
          ]
        }
      ]
    },
    {
      "cell_type": "markdown",
      "source": [
        "import the data\n"
      ],
      "metadata": {
        "id": "L06vZyAjfkxT"
      }
    },
    {
      "cell_type": "code",
      "source": [
        "train=pd.read_csv('/content/fordTrain.csv')\n",
        "test=pd.read_csv('/content/fordTest.csv')"
      ],
      "metadata": {
        "id": "HN89zx2TfLEI"
      },
      "execution_count": null,
      "outputs": []
    },
    {
      "cell_type": "code",
      "source": [
        "train.info()\n",
        "test.info()"
      ],
      "metadata": {
        "colab": {
          "base_uri": "https://localhost:8080/"
        },
        "id": "MVDB2Hrafy67",
        "outputId": "3454f0ed-1a81-42ae-bddb-576d37bea9a9"
      },
      "execution_count": null,
      "outputs": [
        {
          "output_type": "stream",
          "name": "stdout",
          "text": [
            "<class 'pandas.core.frame.DataFrame'>\n",
            "RangeIndex: 604329 entries, 0 to 604328\n",
            "Data columns (total 33 columns):\n",
            " #   Column   Non-Null Count   Dtype  \n",
            "---  ------   --------------   -----  \n",
            " 0   TrialID  604329 non-null  int64  \n",
            " 1   ObsNum   604329 non-null  int64  \n",
            " 2   IsAlert  604329 non-null  int64  \n",
            " 3   P1       604329 non-null  float64\n",
            " 4   P2       604329 non-null  float64\n",
            " 5   P3       604329 non-null  int64  \n",
            " 6   P4       604329 non-null  float64\n",
            " 7   P5       604329 non-null  float64\n",
            " 8   P6       604329 non-null  int64  \n",
            " 9   P7       604329 non-null  float64\n",
            " 10  P8       604329 non-null  int64  \n",
            " 11  E1       604329 non-null  float64\n",
            " 12  E2       604329 non-null  float64\n",
            " 13  E3       604329 non-null  int64  \n",
            " 14  E4       604329 non-null  int64  \n",
            " 15  E5       604329 non-null  float64\n",
            " 16  E6       604329 non-null  int64  \n",
            " 17  E7       604329 non-null  int64  \n",
            " 18  E8       604329 non-null  int64  \n",
            " 19  E9       604329 non-null  int64  \n",
            " 20  E10      604329 non-null  int64  \n",
            " 21  E11      604329 non-null  float64\n",
            " 22  V1       604329 non-null  float64\n",
            " 23  V2       604329 non-null  float64\n",
            " 24  V3       604329 non-null  int64  \n",
            " 25  V4       604329 non-null  float64\n",
            " 26  V5       604329 non-null  int64  \n",
            " 27  V6       604329 non-null  int64  \n",
            " 28  V7       604329 non-null  int64  \n",
            " 29  V8       604329 non-null  float64\n",
            " 30  V9       604329 non-null  int64  \n",
            " 31  V10      604329 non-null  int64  \n",
            " 32  V11      604329 non-null  float64\n",
            "dtypes: float64(14), int64(19)\n",
            "memory usage: 152.2 MB\n",
            "<class 'pandas.core.frame.DataFrame'>\n",
            "RangeIndex: 120840 entries, 0 to 120839\n",
            "Data columns (total 33 columns):\n",
            " #   Column   Non-Null Count   Dtype  \n",
            "---  ------   --------------   -----  \n",
            " 0   TrialID  120840 non-null  int64  \n",
            " 1   ObsNum   120840 non-null  int64  \n",
            " 2   IsAlert  120840 non-null  object \n",
            " 3   P1       120840 non-null  float64\n",
            " 4   P2       120840 non-null  float64\n",
            " 5   P3       120840 non-null  int64  \n",
            " 6   P4       120840 non-null  float64\n",
            " 7   P5       120840 non-null  float64\n",
            " 8   P6       120840 non-null  int64  \n",
            " 9   P7       120840 non-null  float64\n",
            " 10  P8       120840 non-null  int64  \n",
            " 11  E1       120840 non-null  float64\n",
            " 12  E2       120840 non-null  float64\n",
            " 13  E3       120840 non-null  int64  \n",
            " 14  E4       120840 non-null  int64  \n",
            " 15  E5       120840 non-null  float64\n",
            " 16  E6       120840 non-null  int64  \n",
            " 17  E7       120840 non-null  int64  \n",
            " 18  E8       120840 non-null  int64  \n",
            " 19  E9       120840 non-null  int64  \n",
            " 20  E10      120840 non-null  int64  \n",
            " 21  E11      120840 non-null  float64\n",
            " 22  V1       120840 non-null  float64\n",
            " 23  V2       120840 non-null  float64\n",
            " 24  V3       120840 non-null  int64  \n",
            " 25  V4       120840 non-null  float64\n",
            " 26  V5       120840 non-null  int64  \n",
            " 27  V6       120840 non-null  int64  \n",
            " 28  V7       120840 non-null  int64  \n",
            " 29  V8       120840 non-null  float64\n",
            " 30  V9       120840 non-null  int64  \n",
            " 31  V10      120840 non-null  int64  \n",
            " 32  V11      120840 non-null  float64\n",
            "dtypes: float64(14), int64(18), object(1)\n",
            "memory usage: 30.4+ MB\n"
          ]
        }
      ]
    },
    {
      "cell_type": "code",
      "source": [
        "train.describe()"
      ],
      "metadata": {
        "colab": {
          "base_uri": "https://localhost:8080/",
          "height": 350
        },
        "id": "fdhD3njxf3Ol",
        "outputId": "c4b0130d-d3e9-4fda-aed5-9c8391781958"
      },
      "execution_count": null,
      "outputs": [
        {
          "output_type": "execute_result",
          "data": {
            "text/plain": [
              "             TrialID         ObsNum        IsAlert             P1  \\\n",
              "count  604329.000000  604329.000000  604329.000000  604329.000000   \n",
              "mean      250.167657     603.841765       0.578799      35.449020   \n",
              "std       145.446164     348.931601       0.493752       7.484629   \n",
              "min         0.000000       0.000000       0.000000     -22.481200   \n",
              "25%       125.000000     302.000000       0.000000      31.758100   \n",
              "50%       250.000000     604.000000       1.000000      34.145100   \n",
              "75%       374.000000     906.000000       1.000000      37.311900   \n",
              "max       510.000000    1210.000000       1.000000     101.351000   \n",
              "\n",
              "                  P2             P3             P4             P5  \\\n",
              "count  604329.000000  604329.000000  604329.000000  604329.000000   \n",
              "mean       11.996525    1026.671035      64.061965       0.178923   \n",
              "std         3.760292     309.277877      19.755950       0.372309   \n",
              "min       -45.629200     504.000000      23.885300       0.038920   \n",
              "25%         9.903540     792.000000      49.180300       0.092110   \n",
              "50%        11.400400    1000.000000      60.000000       0.105083   \n",
              "75%        13.644200    1220.000000      75.757600       0.138814   \n",
              "max        71.173700    2512.000000     119.048000      27.202200   \n",
              "\n",
              "                  P6             P7  ...             V2             V3  \\\n",
              "count  604329.000000  604329.000000  ...  604329.000000  604329.000000   \n",
              "mean      845.384610      77.887628  ...      -0.037710     573.786433   \n",
              "std      2505.335141      18.577930  ...       0.403896     298.412888   \n",
              "min       128.000000       0.262224  ...      -4.795000     240.000000   \n",
              "25%       668.000000      66.666700  ...      -0.175000     255.000000   \n",
              "50%       800.000000      75.000000  ...       0.000000     511.000000   \n",
              "75%       900.000000      89.820400  ...       0.070000     767.000000   \n",
              "max    228812.000000     468.750000  ...       3.990000    1023.000000   \n",
              "\n",
              "                  V4             V5             V6        V7             V8  \\\n",
              "count  604329.000000  604329.000000  604329.000000  604329.0  604329.000000   \n",
              "mean       19.961030       0.179814    1715.688383       0.0      12.710354   \n",
              "std        63.269456       0.384033     618.176470       0.0      11.532085   \n",
              "min         0.000000       0.000000       0.000000       0.0       0.000000   \n",
              "25%         1.487500       0.000000    1259.000000       0.0       0.000000   \n",
              "50%         3.018750       0.000000    1994.000000       0.0      12.800000   \n",
              "75%         7.481250       0.000000    2146.000000       0.0      21.900000   \n",
              "max       484.488000       1.000000    4892.000000       0.0      82.100000   \n",
              "\n",
              "             V9            V10            V11  \n",
              "count  604329.0  604329.000000  604329.000000  \n",
              "mean        0.0       3.312257      11.668277  \n",
              "std         0.0       1.243586       9.934423  \n",
              "min         0.0       1.000000       1.676730  \n",
              "25%         0.0       3.000000       7.947680  \n",
              "50%         0.0       4.000000      10.772600  \n",
              "75%         0.0       4.000000      15.270900  \n",
              "max         0.0       7.000000     262.534000  \n",
              "\n",
              "[8 rows x 33 columns]"
            ],
            "text/html": [
              "\n",
              "  <div id=\"df-57d44801-a24e-4551-9edb-172095c31752\" class=\"colab-df-container\">\n",
              "    <div>\n",
              "<style scoped>\n",
              "    .dataframe tbody tr th:only-of-type {\n",
              "        vertical-align: middle;\n",
              "    }\n",
              "\n",
              "    .dataframe tbody tr th {\n",
              "        vertical-align: top;\n",
              "    }\n",
              "\n",
              "    .dataframe thead th {\n",
              "        text-align: right;\n",
              "    }\n",
              "</style>\n",
              "<table border=\"1\" class=\"dataframe\">\n",
              "  <thead>\n",
              "    <tr style=\"text-align: right;\">\n",
              "      <th></th>\n",
              "      <th>TrialID</th>\n",
              "      <th>ObsNum</th>\n",
              "      <th>IsAlert</th>\n",
              "      <th>P1</th>\n",
              "      <th>P2</th>\n",
              "      <th>P3</th>\n",
              "      <th>P4</th>\n",
              "      <th>P5</th>\n",
              "      <th>P6</th>\n",
              "      <th>P7</th>\n",
              "      <th>...</th>\n",
              "      <th>V2</th>\n",
              "      <th>V3</th>\n",
              "      <th>V4</th>\n",
              "      <th>V5</th>\n",
              "      <th>V6</th>\n",
              "      <th>V7</th>\n",
              "      <th>V8</th>\n",
              "      <th>V9</th>\n",
              "      <th>V10</th>\n",
              "      <th>V11</th>\n",
              "    </tr>\n",
              "  </thead>\n",
              "  <tbody>\n",
              "    <tr>\n",
              "      <th>count</th>\n",
              "      <td>604329.000000</td>\n",
              "      <td>604329.000000</td>\n",
              "      <td>604329.000000</td>\n",
              "      <td>604329.000000</td>\n",
              "      <td>604329.000000</td>\n",
              "      <td>604329.000000</td>\n",
              "      <td>604329.000000</td>\n",
              "      <td>604329.000000</td>\n",
              "      <td>604329.000000</td>\n",
              "      <td>604329.000000</td>\n",
              "      <td>...</td>\n",
              "      <td>604329.000000</td>\n",
              "      <td>604329.000000</td>\n",
              "      <td>604329.000000</td>\n",
              "      <td>604329.000000</td>\n",
              "      <td>604329.000000</td>\n",
              "      <td>604329.0</td>\n",
              "      <td>604329.000000</td>\n",
              "      <td>604329.0</td>\n",
              "      <td>604329.000000</td>\n",
              "      <td>604329.000000</td>\n",
              "    </tr>\n",
              "    <tr>\n",
              "      <th>mean</th>\n",
              "      <td>250.167657</td>\n",
              "      <td>603.841765</td>\n",
              "      <td>0.578799</td>\n",
              "      <td>35.449020</td>\n",
              "      <td>11.996525</td>\n",
              "      <td>1026.671035</td>\n",
              "      <td>64.061965</td>\n",
              "      <td>0.178923</td>\n",
              "      <td>845.384610</td>\n",
              "      <td>77.887628</td>\n",
              "      <td>...</td>\n",
              "      <td>-0.037710</td>\n",
              "      <td>573.786433</td>\n",
              "      <td>19.961030</td>\n",
              "      <td>0.179814</td>\n",
              "      <td>1715.688383</td>\n",
              "      <td>0.0</td>\n",
              "      <td>12.710354</td>\n",
              "      <td>0.0</td>\n",
              "      <td>3.312257</td>\n",
              "      <td>11.668277</td>\n",
              "    </tr>\n",
              "    <tr>\n",
              "      <th>std</th>\n",
              "      <td>145.446164</td>\n",
              "      <td>348.931601</td>\n",
              "      <td>0.493752</td>\n",
              "      <td>7.484629</td>\n",
              "      <td>3.760292</td>\n",
              "      <td>309.277877</td>\n",
              "      <td>19.755950</td>\n",
              "      <td>0.372309</td>\n",
              "      <td>2505.335141</td>\n",
              "      <td>18.577930</td>\n",
              "      <td>...</td>\n",
              "      <td>0.403896</td>\n",
              "      <td>298.412888</td>\n",
              "      <td>63.269456</td>\n",
              "      <td>0.384033</td>\n",
              "      <td>618.176470</td>\n",
              "      <td>0.0</td>\n",
              "      <td>11.532085</td>\n",
              "      <td>0.0</td>\n",
              "      <td>1.243586</td>\n",
              "      <td>9.934423</td>\n",
              "    </tr>\n",
              "    <tr>\n",
              "      <th>min</th>\n",
              "      <td>0.000000</td>\n",
              "      <td>0.000000</td>\n",
              "      <td>0.000000</td>\n",
              "      <td>-22.481200</td>\n",
              "      <td>-45.629200</td>\n",
              "      <td>504.000000</td>\n",
              "      <td>23.885300</td>\n",
              "      <td>0.038920</td>\n",
              "      <td>128.000000</td>\n",
              "      <td>0.262224</td>\n",
              "      <td>...</td>\n",
              "      <td>-4.795000</td>\n",
              "      <td>240.000000</td>\n",
              "      <td>0.000000</td>\n",
              "      <td>0.000000</td>\n",
              "      <td>0.000000</td>\n",
              "      <td>0.0</td>\n",
              "      <td>0.000000</td>\n",
              "      <td>0.0</td>\n",
              "      <td>1.000000</td>\n",
              "      <td>1.676730</td>\n",
              "    </tr>\n",
              "    <tr>\n",
              "      <th>25%</th>\n",
              "      <td>125.000000</td>\n",
              "      <td>302.000000</td>\n",
              "      <td>0.000000</td>\n",
              "      <td>31.758100</td>\n",
              "      <td>9.903540</td>\n",
              "      <td>792.000000</td>\n",
              "      <td>49.180300</td>\n",
              "      <td>0.092110</td>\n",
              "      <td>668.000000</td>\n",
              "      <td>66.666700</td>\n",
              "      <td>...</td>\n",
              "      <td>-0.175000</td>\n",
              "      <td>255.000000</td>\n",
              "      <td>1.487500</td>\n",
              "      <td>0.000000</td>\n",
              "      <td>1259.000000</td>\n",
              "      <td>0.0</td>\n",
              "      <td>0.000000</td>\n",
              "      <td>0.0</td>\n",
              "      <td>3.000000</td>\n",
              "      <td>7.947680</td>\n",
              "    </tr>\n",
              "    <tr>\n",
              "      <th>50%</th>\n",
              "      <td>250.000000</td>\n",
              "      <td>604.000000</td>\n",
              "      <td>1.000000</td>\n",
              "      <td>34.145100</td>\n",
              "      <td>11.400400</td>\n",
              "      <td>1000.000000</td>\n",
              "      <td>60.000000</td>\n",
              "      <td>0.105083</td>\n",
              "      <td>800.000000</td>\n",
              "      <td>75.000000</td>\n",
              "      <td>...</td>\n",
              "      <td>0.000000</td>\n",
              "      <td>511.000000</td>\n",
              "      <td>3.018750</td>\n",
              "      <td>0.000000</td>\n",
              "      <td>1994.000000</td>\n",
              "      <td>0.0</td>\n",
              "      <td>12.800000</td>\n",
              "      <td>0.0</td>\n",
              "      <td>4.000000</td>\n",
              "      <td>10.772600</td>\n",
              "    </tr>\n",
              "    <tr>\n",
              "      <th>75%</th>\n",
              "      <td>374.000000</td>\n",
              "      <td>906.000000</td>\n",
              "      <td>1.000000</td>\n",
              "      <td>37.311900</td>\n",
              "      <td>13.644200</td>\n",
              "      <td>1220.000000</td>\n",
              "      <td>75.757600</td>\n",
              "      <td>0.138814</td>\n",
              "      <td>900.000000</td>\n",
              "      <td>89.820400</td>\n",
              "      <td>...</td>\n",
              "      <td>0.070000</td>\n",
              "      <td>767.000000</td>\n",
              "      <td>7.481250</td>\n",
              "      <td>0.000000</td>\n",
              "      <td>2146.000000</td>\n",
              "      <td>0.0</td>\n",
              "      <td>21.900000</td>\n",
              "      <td>0.0</td>\n",
              "      <td>4.000000</td>\n",
              "      <td>15.270900</td>\n",
              "    </tr>\n",
              "    <tr>\n",
              "      <th>max</th>\n",
              "      <td>510.000000</td>\n",
              "      <td>1210.000000</td>\n",
              "      <td>1.000000</td>\n",
              "      <td>101.351000</td>\n",
              "      <td>71.173700</td>\n",
              "      <td>2512.000000</td>\n",
              "      <td>119.048000</td>\n",
              "      <td>27.202200</td>\n",
              "      <td>228812.000000</td>\n",
              "      <td>468.750000</td>\n",
              "      <td>...</td>\n",
              "      <td>3.990000</td>\n",
              "      <td>1023.000000</td>\n",
              "      <td>484.488000</td>\n",
              "      <td>1.000000</td>\n",
              "      <td>4892.000000</td>\n",
              "      <td>0.0</td>\n",
              "      <td>82.100000</td>\n",
              "      <td>0.0</td>\n",
              "      <td>7.000000</td>\n",
              "      <td>262.534000</td>\n",
              "    </tr>\n",
              "  </tbody>\n",
              "</table>\n",
              "<p>8 rows × 33 columns</p>\n",
              "</div>\n",
              "    <div class=\"colab-df-buttons\">\n",
              "\n",
              "  <div class=\"colab-df-container\">\n",
              "    <button class=\"colab-df-convert\" onclick=\"convertToInteractive('df-57d44801-a24e-4551-9edb-172095c31752')\"\n",
              "            title=\"Convert this dataframe to an interactive table.\"\n",
              "            style=\"display:none;\">\n",
              "\n",
              "  <svg xmlns=\"http://www.w3.org/2000/svg\" height=\"24px\" viewBox=\"0 -960 960 960\">\n",
              "    <path d=\"M120-120v-720h720v720H120Zm60-500h600v-160H180v160Zm220 220h160v-160H400v160Zm0 220h160v-160H400v160ZM180-400h160v-160H180v160Zm440 0h160v-160H620v160ZM180-180h160v-160H180v160Zm440 0h160v-160H620v160Z\"/>\n",
              "  </svg>\n",
              "    </button>\n",
              "\n",
              "  <style>\n",
              "    .colab-df-container {\n",
              "      display:flex;\n",
              "      gap: 12px;\n",
              "    }\n",
              "\n",
              "    .colab-df-convert {\n",
              "      background-color: #E8F0FE;\n",
              "      border: none;\n",
              "      border-radius: 50%;\n",
              "      cursor: pointer;\n",
              "      display: none;\n",
              "      fill: #1967D2;\n",
              "      height: 32px;\n",
              "      padding: 0 0 0 0;\n",
              "      width: 32px;\n",
              "    }\n",
              "\n",
              "    .colab-df-convert:hover {\n",
              "      background-color: #E2EBFA;\n",
              "      box-shadow: 0px 1px 2px rgba(60, 64, 67, 0.3), 0px 1px 3px 1px rgba(60, 64, 67, 0.15);\n",
              "      fill: #174EA6;\n",
              "    }\n",
              "\n",
              "    .colab-df-buttons div {\n",
              "      margin-bottom: 4px;\n",
              "    }\n",
              "\n",
              "    [theme=dark] .colab-df-convert {\n",
              "      background-color: #3B4455;\n",
              "      fill: #D2E3FC;\n",
              "    }\n",
              "\n",
              "    [theme=dark] .colab-df-convert:hover {\n",
              "      background-color: #434B5C;\n",
              "      box-shadow: 0px 1px 3px 1px rgba(0, 0, 0, 0.15);\n",
              "      filter: drop-shadow(0px 1px 2px rgba(0, 0, 0, 0.3));\n",
              "      fill: #FFFFFF;\n",
              "    }\n",
              "  </style>\n",
              "\n",
              "    <script>\n",
              "      const buttonEl =\n",
              "        document.querySelector('#df-57d44801-a24e-4551-9edb-172095c31752 button.colab-df-convert');\n",
              "      buttonEl.style.display =\n",
              "        google.colab.kernel.accessAllowed ? 'block' : 'none';\n",
              "\n",
              "      async function convertToInteractive(key) {\n",
              "        const element = document.querySelector('#df-57d44801-a24e-4551-9edb-172095c31752');\n",
              "        const dataTable =\n",
              "          await google.colab.kernel.invokeFunction('convertToInteractive',\n",
              "                                                    [key], {});\n",
              "        if (!dataTable) return;\n",
              "\n",
              "        const docLinkHtml = 'Like what you see? Visit the ' +\n",
              "          '<a target=\"_blank\" href=https://colab.research.google.com/notebooks/data_table.ipynb>data table notebook</a>'\n",
              "          + ' to learn more about interactive tables.';\n",
              "        element.innerHTML = '';\n",
              "        dataTable['output_type'] = 'display_data';\n",
              "        await google.colab.output.renderOutput(dataTable, element);\n",
              "        const docLink = document.createElement('div');\n",
              "        docLink.innerHTML = docLinkHtml;\n",
              "        element.appendChild(docLink);\n",
              "      }\n",
              "    </script>\n",
              "  </div>\n",
              "\n",
              "\n",
              "<div id=\"df-a5098e8c-0383-4c39-bce0-9d1fa11789f5\">\n",
              "  <button class=\"colab-df-quickchart\" onclick=\"quickchart('df-a5098e8c-0383-4c39-bce0-9d1fa11789f5')\"\n",
              "            title=\"Suggest charts\"\n",
              "            style=\"display:none;\">\n",
              "\n",
              "<svg xmlns=\"http://www.w3.org/2000/svg\" height=\"24px\"viewBox=\"0 0 24 24\"\n",
              "     width=\"24px\">\n",
              "    <g>\n",
              "        <path d=\"M19 3H5c-1.1 0-2 .9-2 2v14c0 1.1.9 2 2 2h14c1.1 0 2-.9 2-2V5c0-1.1-.9-2-2-2zM9 17H7v-7h2v7zm4 0h-2V7h2v10zm4 0h-2v-4h2v4z\"/>\n",
              "    </g>\n",
              "</svg>\n",
              "  </button>\n",
              "\n",
              "<style>\n",
              "  .colab-df-quickchart {\n",
              "      --bg-color: #E8F0FE;\n",
              "      --fill-color: #1967D2;\n",
              "      --hover-bg-color: #E2EBFA;\n",
              "      --hover-fill-color: #174EA6;\n",
              "      --disabled-fill-color: #AAA;\n",
              "      --disabled-bg-color: #DDD;\n",
              "  }\n",
              "\n",
              "  [theme=dark] .colab-df-quickchart {\n",
              "      --bg-color: #3B4455;\n",
              "      --fill-color: #D2E3FC;\n",
              "      --hover-bg-color: #434B5C;\n",
              "      --hover-fill-color: #FFFFFF;\n",
              "      --disabled-bg-color: #3B4455;\n",
              "      --disabled-fill-color: #666;\n",
              "  }\n",
              "\n",
              "  .colab-df-quickchart {\n",
              "    background-color: var(--bg-color);\n",
              "    border: none;\n",
              "    border-radius: 50%;\n",
              "    cursor: pointer;\n",
              "    display: none;\n",
              "    fill: var(--fill-color);\n",
              "    height: 32px;\n",
              "    padding: 0;\n",
              "    width: 32px;\n",
              "  }\n",
              "\n",
              "  .colab-df-quickchart:hover {\n",
              "    background-color: var(--hover-bg-color);\n",
              "    box-shadow: 0 1px 2px rgba(60, 64, 67, 0.3), 0 1px 3px 1px rgba(60, 64, 67, 0.15);\n",
              "    fill: var(--button-hover-fill-color);\n",
              "  }\n",
              "\n",
              "  .colab-df-quickchart-complete:disabled,\n",
              "  .colab-df-quickchart-complete:disabled:hover {\n",
              "    background-color: var(--disabled-bg-color);\n",
              "    fill: var(--disabled-fill-color);\n",
              "    box-shadow: none;\n",
              "  }\n",
              "\n",
              "  .colab-df-spinner {\n",
              "    border: 2px solid var(--fill-color);\n",
              "    border-color: transparent;\n",
              "    border-bottom-color: var(--fill-color);\n",
              "    animation:\n",
              "      spin 1s steps(1) infinite;\n",
              "  }\n",
              "\n",
              "  @keyframes spin {\n",
              "    0% {\n",
              "      border-color: transparent;\n",
              "      border-bottom-color: var(--fill-color);\n",
              "      border-left-color: var(--fill-color);\n",
              "    }\n",
              "    20% {\n",
              "      border-color: transparent;\n",
              "      border-left-color: var(--fill-color);\n",
              "      border-top-color: var(--fill-color);\n",
              "    }\n",
              "    30% {\n",
              "      border-color: transparent;\n",
              "      border-left-color: var(--fill-color);\n",
              "      border-top-color: var(--fill-color);\n",
              "      border-right-color: var(--fill-color);\n",
              "    }\n",
              "    40% {\n",
              "      border-color: transparent;\n",
              "      border-right-color: var(--fill-color);\n",
              "      border-top-color: var(--fill-color);\n",
              "    }\n",
              "    60% {\n",
              "      border-color: transparent;\n",
              "      border-right-color: var(--fill-color);\n",
              "    }\n",
              "    80% {\n",
              "      border-color: transparent;\n",
              "      border-right-color: var(--fill-color);\n",
              "      border-bottom-color: var(--fill-color);\n",
              "    }\n",
              "    90% {\n",
              "      border-color: transparent;\n",
              "      border-bottom-color: var(--fill-color);\n",
              "    }\n",
              "  }\n",
              "</style>\n",
              "\n",
              "  <script>\n",
              "    async function quickchart(key) {\n",
              "      const quickchartButtonEl =\n",
              "        document.querySelector('#' + key + ' button');\n",
              "      quickchartButtonEl.disabled = true;  // To prevent multiple clicks.\n",
              "      quickchartButtonEl.classList.add('colab-df-spinner');\n",
              "      try {\n",
              "        const charts = await google.colab.kernel.invokeFunction(\n",
              "            'suggestCharts', [key], {});\n",
              "      } catch (error) {\n",
              "        console.error('Error during call to suggestCharts:', error);\n",
              "      }\n",
              "      quickchartButtonEl.classList.remove('colab-df-spinner');\n",
              "      quickchartButtonEl.classList.add('colab-df-quickchart-complete');\n",
              "    }\n",
              "    (() => {\n",
              "      let quickchartButtonEl =\n",
              "        document.querySelector('#df-a5098e8c-0383-4c39-bce0-9d1fa11789f5 button');\n",
              "      quickchartButtonEl.style.display =\n",
              "        google.colab.kernel.accessAllowed ? 'block' : 'none';\n",
              "    })();\n",
              "  </script>\n",
              "</div>\n",
              "\n",
              "    </div>\n",
              "  </div>\n"
            ],
            "application/vnd.google.colaboratory.intrinsic+json": {
              "type": "dataframe"
            }
          },
          "metadata": {},
          "execution_count": 5
        }
      ]
    },
    {
      "cell_type": "code",
      "source": [
        "train.skew()"
      ],
      "metadata": {
        "id": "m4kHttdas3Mg",
        "colab": {
          "base_uri": "https://localhost:8080/"
        },
        "outputId": "16a721a7-c656-4ca8-8e61-cc96616f6130"
      },
      "execution_count": null,
      "outputs": [
        {
          "output_type": "execute_result",
          "data": {
            "text/plain": [
              "TrialID     0.024138\n",
              "ObsNum      0.000214\n",
              "IsAlert    -0.319185\n",
              "P1          2.445986\n",
              "P2          0.863450\n",
              "P3          0.507984\n",
              "P4          0.643117\n",
              "P5         20.225034\n",
              "P6         89.789752\n",
              "P7          1.937124\n",
              "P8          0.000000\n",
              "E1          0.766075\n",
              "E2          0.754220\n",
              "E3          3.352342\n",
              "E4         -2.467771\n",
              "E5          0.175100\n",
              "E6         -0.469872\n",
              "E7          2.844119\n",
              "E8          2.200218\n",
              "E9         -2.292728\n",
              "E10        -0.433540\n",
              "E11         4.062888\n",
              "V1         -0.941470\n",
              "V2         -0.759452\n",
              "V3          0.261053\n",
              "V4          5.144928\n",
              "V5          1.667496\n",
              "V6         -0.871827\n",
              "V7          0.000000\n",
              "V8          0.406715\n",
              "V9          0.000000\n",
              "V10        -1.172114\n",
              "V11        21.165566\n",
              "dtype: float64"
            ]
          },
          "metadata": {},
          "execution_count": 6
        }
      ]
    },
    {
      "cell_type": "code",
      "source": [
        "sns.heatmap(train.corr())"
      ],
      "metadata": {
        "id": "r4qttu2ms3Jd",
        "colab": {
          "base_uri": "https://localhost:8080/",
          "height": 483
        },
        "outputId": "7aa3d588-27c3-4315-f136-74ccbf782946"
      },
      "execution_count": null,
      "outputs": [
        {
          "output_type": "execute_result",
          "data": {
            "text/plain": [
              "<Axes: >"
            ]
          },
          "metadata": {},
          "execution_count": 7
        },
        {
          "output_type": "display_data",
          "data": {
            "text/plain": [
              "<Figure size 640x480 with 2 Axes>"
            ],
            "image/png": "[encoded data removed]"
          },
          "metadata": {}
        }
      ]
    },
    {
      "cell_type": "markdown",
      "source": [
        "# data preprocessing"
      ],
      "metadata": {
        "id": "okur-nDDvvul"
      }
    },
    {
      "cell_type": "markdown",
      "source": [
        "divide the data"
      ],
      "metadata": {
        "id": "OTGe3999vJbj"
      }
    },
    {
      "cell_type": "code",
      "source": [
        "y = train['IsAlert']\n",
        "x = train.iloc[:,3:]"
      ],
      "metadata": {
        "id": "W0rVp7NPs20q"
      },
      "execution_count": null,
      "outputs": []
    },
    {
      "cell_type": "markdown",
      "source": [
        "split the data"
      ],
      "metadata": {
        "id": "n5UTgkRTvOaM"
      }
    },
    {
      "cell_type": "code",
      "source": [
        "x_train, x_test, y_train, y_test = train_test_split(x, y, test_size = 0.2, random_state = 123)"
      ],
      "metadata": {
        "id": "F6JBZwTka3Tq"
      },
      "execution_count": null,
      "outputs": []
    },
    {
      "cell_type": "code",
      "source": [
        "print(x_train.shape)\n",
        "print(x_test.shape)\n",
        "print(y_train.shape)\n",
        "print(y_test.shape)"
      ],
      "metadata": {
        "colab": {
          "base_uri": "https://localhost:8080/"
        },
        "id": "qRJeM7YCvAos",
        "outputId": "5cecc0b2-256c-465b-aa7d-1db75f72c4c1"
      },
      "execution_count": null,
      "outputs": [
        {
          "output_type": "stream",
          "name": "stdout",
          "text": [
            "(483463, 30)\n",
            "(120866, 30)\n",
            "(483463,)\n",
            "(120866,)\n"
          ]
        }
      ]
    },
    {
      "cell_type": "markdown",
      "source": [
        "# multi variate model"
      ],
      "metadata": {
        "id": "ZLCVQQIovhDj"
      }
    },
    {
      "cell_type": "markdown",
      "source": [
        "# logistic regression"
      ],
      "metadata": {
        "id": "JiU7BUa5vcMs"
      }
    },
    {
      "cell_type": "code",
      "source": [
        "log_reg = LogisticRegression()\n",
        "log_reg.fit(x_train, y_train)\n",
        "y_hat_train_logreg = log_reg.predict(x_train)\n",
        "y_hat_test_logreg = log_reg.predict(x_test)"
      ],
      "metadata": {
        "colab": {
          "base_uri": "https://localhost:8080/"
        },
        "id": "28_pqP01vF2c",
        "outputId": "72152b68-1127-4122-f0f3-6a9db74bcc13"
      },
      "execution_count": null,
      "outputs": [
        {
          "output_type": "stream",
          "name": "stderr",
          "text": [
            "/usr/local/lib/python3.10/dist-packages/sklearn/linear_model/_logistic.py:458: ConvergenceWarning: lbfgs failed to converge (status=1):\n",
            "STOP: TOTAL NO. of ITERATIONS REACHED LIMIT.\n",
            "\n",
            "Increase the number of iterations (max_iter) or scale the data as shown in:\n",
            "    https://scikit-learn.org/stable/modules/preprocessing.html\n",
            "Please also refer to the documentation for alternative solver options:\n",
            "    https://scikit-learn.org/stable/modules/linear_model.html#logistic-regression\n",
            "  n_iter_i = _check_optimize_result(\n"
          ]
        }
      ]
    },
    {
      "cell_type": "code",
      "source": [
        "def model_eval(actual,predicted):\n",
        "  con_matrix=confusion_matrix(actual,predicted)\n",
        "  acc_score=accuracy_score(actual,predicted)\n",
        "  clas_rep=classification_report(actual,predicted)\n",
        "  print('The Accuracy of the model is: ', round(acc_score,2))\n",
        "  print(con_matrix)\n",
        "  print(clas_rep)"
      ],
      "metadata": {
        "id": "rMMKbPH-vaYZ"
      },
      "execution_count": null,
      "outputs": []
    },
    {
      "cell_type": "code",
      "source": [
        "model_eval(y_train, y_hat_train_logreg)"
      ],
      "metadata": {
        "colab": {
          "base_uri": "https://localhost:8080/"
        },
        "id": "yVbH45hDwrg9",
        "outputId": "ff621edc-8278-4390-bdcb-585b31230646"
      },
      "execution_count": null,
      "outputs": [
        {
          "output_type": "stream",
          "name": "stdout",
          "text": [
            "The Accuracy of the model is:  0.71\n",
            "[[130399  72928]\n",
            " [ 65193 214943]]\n",
            "              precision    recall  f1-score   support\n",
            "\n",
            "           0       0.67      0.64      0.65    203327\n",
            "           1       0.75      0.77      0.76    280136\n",
            "\n",
            "    accuracy                           0.71    483463\n",
            "   macro avg       0.71      0.70      0.71    483463\n",
            "weighted avg       0.71      0.71      0.71    483463\n",
            "\n"
          ]
        }
      ]
    },
    {
      "cell_type": "code",
      "source": [
        "model_eval(y_test, y_hat_test_logreg)"
      ],
      "metadata": {
        "colab": {
          "base_uri": "https://localhost:8080/"
        },
        "id": "-X11T-_9wuad",
        "outputId": "0e31418a-5462-40d8-8a42-0c3283c14eb4"
      },
      "execution_count": null,
      "outputs": [
        {
          "output_type": "stream",
          "name": "stdout",
          "text": [
            "The Accuracy of the model is:  0.71\n",
            "[[32998 18219]\n",
            " [16315 53334]]\n",
            "              precision    recall  f1-score   support\n",
            "\n",
            "           0       0.67      0.64      0.66     51217\n",
            "           1       0.75      0.77      0.76     69649\n",
            "\n",
            "    accuracy                           0.71    120866\n",
            "   macro avg       0.71      0.71      0.71    120866\n",
            "weighted avg       0.71      0.71      0.71    120866\n",
            "\n"
          ]
        }
      ]
    },
    {
      "cell_type": "markdown",
      "source": [
        "# decision tree classifier"
      ],
      "metadata": {
        "id": "_kR8Zo5Y3jzy"
      }
    },
    {
      "cell_type": "code",
      "source": [
        "from sklearn.tree import DecisionTreeRegressor\n",
        "dtree=DecisionTreeRegressor()\n",
        "dtree.fit(x_train,y_train)"
      ],
      "metadata": {
        "colab": {
          "base_uri": "https://localhost:8080/",
          "height": 75
        },
        "id": "aft2zjIEw_E8",
        "outputId": "09aacaad-729b-4aea-8b50-51a6be780466"
      },
      "execution_count": null,
      "outputs": [
        {
          "output_type": "execute_result",
          "data": {
            "text/plain": [
              "DecisionTreeRegressor()"
            ],
            "text/html": [
              "<style>#sk-container-id-1 {color: black;background-color: white;}#sk-container-id-1 pre{padding: 0;}#sk-container-id-1 div.sk-toggleable {background-color: white;}#sk-container-id-1 label.sk-toggleable__label {cursor: pointer;display: block;width: 100%;margin-bottom: 0;padding: 0.3em;box-sizing: border-box;text-align: center;}#sk-container-id-1 label.sk-toggleable__label-arrow:before {content: \"▸\";float: left;margin-right: 0.25em;color: #696969;}#sk-container-id-1 label.sk-toggleable__label-arrow:hover:before {color: black;}#sk-container-id-1 div.sk-estimator:hover label.sk-toggleable__label-arrow:before {color: black;}#sk-container-id-1 div.sk-toggleable__content {max-height: 0;max-width: 0;overflow: hidden;text-align: left;background-color: #f0f8ff;}#sk-container-id-1 div.sk-toggleable__content pre {margin: 0.2em;color: black;border-radius: 0.25em;background-color: #f0f8ff;}#sk-container-id-1 input.sk-toggleable__control:checked~div.sk-toggleable__content {max-height: 200px;max-width: 100%;overflow: auto;}#sk-container-id-1 input.sk-toggleable__control:checked~label.sk-toggleable__label-arrow:before {content: \"▾\";}#sk-container-id-1 div.sk-estimator input.sk-toggleable__control:checked~label.sk-toggleable__label {background-color: #d4ebff;}#sk-container-id-1 div.sk-label input.sk-toggleable__control:checked~label.sk-toggleable__label {background-color: #d4ebff;}#sk-container-id-1 input.sk-hidden--visually {border: 0;clip: rect(1px 1px 1px 1px);clip: rect(1px, 1px, 1px, 1px);height: 1px;margin: -1px;overflow: hidden;padding: 0;position: absolute;width: 1px;}#sk-container-id-1 div.sk-estimator {font-family: monospace;background-color: #f0f8ff;border: 1px dotted black;border-radius: 0.25em;box-sizing: border-box;margin-bottom: 0.5em;}#sk-container-id-1 div.sk-estimator:hover {background-color: #d4ebff;}#sk-container-id-1 div.sk-parallel-item::after {content: \"\";width: 100%;border-bottom: 1px solid gray;flex-grow: 1;}#sk-container-id-1 div.sk-label:hover label.sk-toggleable__label {background-color: #d4ebff;}#sk-container-id-1 div.sk-serial::before {content: \"\";position: absolute;border-left: 1px solid gray;box-sizing: border-box;top: 0;bottom: 0;left: 50%;z-index: 0;}#sk-container-id-1 div.sk-serial {display: flex;flex-direction: column;align-items: center;background-color: white;padding-right: 0.2em;padding-left: 0.2em;position: relative;}#sk-container-id-1 div.sk-item {position: relative;z-index: 1;}#sk-container-id-1 div.sk-parallel {display: flex;align-items: stretch;justify-content: center;background-color: white;position: relative;}#sk-container-id-1 div.sk-item::before, #sk-container-id-1 div.sk-parallel-item::before {content: \"\";position: absolute;border-left: 1px solid gray;box-sizing: border-box;top: 0;bottom: 0;left: 50%;z-index: -1;}#sk-container-id-1 div.sk-parallel-item {display: flex;flex-direction: column;z-index: 1;position: relative;background-color: white;}#sk-container-id-1 div.sk-parallel-item:first-child::after {align-self: flex-end;width: 50%;}#sk-container-id-1 div.sk-parallel-item:last-child::after {align-self: flex-start;width: 50%;}#sk-container-id-1 div.sk-parallel-item:only-child::after {width: 0;}#sk-container-id-1 div.sk-dashed-wrapped {border: 1px dashed gray;margin: 0 0.4em 0.5em 0.4em;box-sizing: border-box;padding-bottom: 0.4em;background-color: white;}#sk-container-id-1 div.sk-label label {font-family: monospace;font-weight: bold;display: inline-block;line-height: 1.2em;}#sk-container-id-1 div.sk-label-container {text-align: center;}#sk-container-id-1 div.sk-container {/* jupyter's `normalize.less` sets `[hidden] { display: none; }` but bootstrap.min.css set `[hidden] { display: none !important; }` so we also need the `!important` here to be able to override the default hidden behavior on the sphinx rendered scikit-learn.org. See: https://github.com/scikit-learn/scikit-learn/issues/21755 */display: inline-block !important;position: relative;}#sk-container-id-1 div.sk-text-repr-fallback {display: none;}</style><div id=\"sk-container-id-1\" class=\"sk-top-container\"><div class=\"sk-text-repr-fallback\"><pre>DecisionTreeRegressor()</pre><b>In a Jupyter environment, please rerun this cell to show the HTML representation or trust the notebook. <br />On GitHub, the HTML representation is unable to render, please try loading this page with nbviewer.org.</b></div><div class=\"sk-container\" hidden><div class=\"sk-item\"><div class=\"sk-estimator sk-toggleable\"><input class=\"sk-toggleable__control sk-hidden--visually\" id=\"sk-estimator-id-1\" type=\"checkbox\" checked><label for=\"sk-estimator-id-1\" class=\"sk-toggleable__label sk-toggleable__label-arrow\">DecisionTreeRegressor</label><div class=\"sk-toggleable__content\"><pre>DecisionTreeRegressor()</pre></div></div></div></div></div>"
            ]
          },
          "metadata": {},
          "execution_count": 15
        }
      ]
    },
    {
      "cell_type": "code",
      "source": [
        "y_hat_train_dtree=dtree.predict(x_train)\n",
        "y_hat_test_dtree=dtree.predict(x_test)"
      ],
      "metadata": {
        "id": "QuNu3ljc0yfi"
      },
      "execution_count": null,
      "outputs": []
    },
    {
      "cell_type": "code",
      "source": [
        "model_eval(y_train,y_hat_train_dtree)"
      ],
      "metadata": {
        "colab": {
          "base_uri": "https://localhost:8080/"
        },
        "id": "GEamxGn51DVD",
        "outputId": "4b316782-0001-4595-e612-9a715e3dbeb0"
      },
      "execution_count": null,
      "outputs": [
        {
          "output_type": "stream",
          "name": "stdout",
          "text": [
            "The Accuracy of the model is:  1.0\n",
            "[[203327      0]\n",
            " [     0 280136]]\n",
            "              precision    recall  f1-score   support\n",
            "\n",
            "           0       1.00      1.00      1.00    203327\n",
            "           1       1.00      1.00      1.00    280136\n",
            "\n",
            "    accuracy                           1.00    483463\n",
            "   macro avg       1.00      1.00      1.00    483463\n",
            "weighted avg       1.00      1.00      1.00    483463\n",
            "\n"
          ]
        }
      ]
    },
    {
      "cell_type": "code",
      "source": [
        "model_eval(y_test,y_hat_test_dtree)"
      ],
      "metadata": {
        "colab": {
          "base_uri": "https://localhost:8080/"
        },
        "id": "HlHKDRA51ZYa",
        "outputId": "5a4dee10-d1b5-457d-89ec-e76ffee8b3fa"
      },
      "execution_count": null,
      "outputs": [
        {
          "output_type": "stream",
          "name": "stdout",
          "text": [
            "The Accuracy of the model is:  0.99\n",
            "[[50475   742]\n",
            " [  758 68891]]\n",
            "              precision    recall  f1-score   support\n",
            "\n",
            "           0       0.99      0.99      0.99     51217\n",
            "           1       0.99      0.99      0.99     69649\n",
            "\n",
            "    accuracy                           0.99    120866\n",
            "   macro avg       0.99      0.99      0.99    120866\n",
            "weighted avg       0.99      0.99      0.99    120866\n",
            "\n"
          ]
        }
      ]
    },
    {
      "cell_type": "markdown",
      "source": [
        "# random forest classifier"
      ],
      "metadata": {
        "id": "xJS7xFba1gja"
      }
    },
    {
      "cell_type": "code",
      "source": [
        "rf=RandomForestClassifier()"
      ],
      "metadata": {
        "id": "1h1QZmJh1erI"
      },
      "execution_count": null,
      "outputs": []
    },
    {
      "cell_type": "code",
      "source": [
        "rf.fit(x_train,y_train)\n",
        "y_hat_train_rf=rf.predict(x_train)\n",
        "y_hat_test_rf=rf.predict(x_test)\n"
      ],
      "metadata": {
        "id": "0Xwh2-4I10sT"
      },
      "execution_count": null,
      "outputs": []
    },
    {
      "cell_type": "code",
      "source": [
        "model_eval(y_train,y_hat_train_rf)"
      ],
      "metadata": {
        "colab": {
          "base_uri": "https://localhost:8080/"
        },
        "id": "7PG9Rhz_2Rff",
        "outputId": "70095762-6795-47b2-c91d-dba8100b4298"
      },
      "execution_count": null,
      "outputs": [
        {
          "output_type": "stream",
          "name": "stdout",
          "text": [
            "The Accuracy of the model is:  1.0\n",
            "[[203327      0]\n",
            " [     1 280135]]\n",
            "              precision    recall  f1-score   support\n",
            "\n",
            "           0       1.00      1.00      1.00    203327\n",
            "           1       1.00      1.00      1.00    280136\n",
            "\n",
            "    accuracy                           1.00    483463\n",
            "   macro avg       1.00      1.00      1.00    483463\n",
            "weighted avg       1.00      1.00      1.00    483463\n",
            "\n"
          ]
        }
      ]
    },
    {
      "cell_type": "code",
      "source": [
        "model_eval(y_test,y_hat_test_rf)"
      ],
      "metadata": {
        "colab": {
          "base_uri": "https://localhost:8080/"
        },
        "id": "apJxOKSD2X4b",
        "outputId": "b78a36f6-fb53-4532-fab5-7ab2ebd31793"
      },
      "execution_count": null,
      "outputs": [
        {
          "output_type": "stream",
          "name": "stdout",
          "text": [
            "The Accuracy of the model is:  0.99\n",
            "[[50669   548]\n",
            " [   76 69573]]\n",
            "              precision    recall  f1-score   support\n",
            "\n",
            "           0       1.00      0.99      0.99     51217\n",
            "           1       0.99      1.00      1.00     69649\n",
            "\n",
            "    accuracy                           0.99    120866\n",
            "   macro avg       1.00      0.99      0.99    120866\n",
            "weighted avg       0.99      0.99      0.99    120866\n",
            "\n"
          ]
        }
      ]
    },
    {
      "cell_type": "code",
      "source": [
        "importances=rf.feature_importances_"
      ],
      "metadata": {
        "id": "h8pB4j_Y2hdb"
      },
      "execution_count": null,
      "outputs": []
    },
    {
      "cell_type": "code",
      "source": [
        "importances_df = pd.DataFrame({'feature': x_train.columns, 'importance': importances})"
      ],
      "metadata": {
        "id": "6HiXIRD74LUF"
      },
      "execution_count": null,
      "outputs": []
    },
    {
      "cell_type": "code",
      "source": [
        "importances_df = importances_df.sort_values('importance', ascending=False)"
      ],
      "metadata": {
        "id": "gOr42zf56sDD"
      },
      "execution_count": null,
      "outputs": []
    },
    {
      "cell_type": "code",
      "source": [
        "importances_df"
      ],
      "metadata": {
        "colab": {
          "base_uri": "https://localhost:8080/",
          "height": 990
        },
        "id": "-U5IIXMv6wGb",
        "outputId": "4ec25237-a2af-4692-c797-ef614e06dc46"
      },
      "execution_count": null,
      "outputs": [
        {
          "output_type": "execute_result",
          "data": {
            "text/plain": [
              "   feature  importance\n",
              "29     V11    0.159254\n",
              "17     E10    0.099037\n",
              "14      E7    0.060928\n",
              "19      V1    0.058520\n",
              "13      E6    0.057940\n",
              "15      E8    0.057689\n",
              "6       P7    0.057068\n",
              "5       P6    0.054865\n",
              "16      E9    0.053222\n",
              "4       P5    0.045415\n",
              "24      V6    0.043870\n",
              "12      E5    0.035557\n",
              "0       P1    0.028058\n",
              "22      V4    0.025785\n",
              "9       E2    0.022732\n",
              "28     V10    0.021170\n",
              "26      V8    0.018835\n",
              "20      V2    0.017555\n",
              "11      E4    0.016564\n",
              "8       E1    0.014753\n",
              "21      V3    0.011698\n",
              "2       P3    0.011473\n",
              "3       P4    0.011389\n",
              "1       P2    0.005155\n",
              "18     E11    0.004099\n",
              "23      V5    0.003881\n",
              "10      E3    0.003489\n",
              "7       P8    0.000000\n",
              "25      V7    0.000000\n",
              "27      V9    0.000000"
            ],
            "text/html": [
              "\n",
              "  <div id=\"df-a4076977-d58d-47a2-9825-3f6b0a16178c\" class=\"colab-df-container\">\n",
              "    <div>\n",
              "<style scoped>\n",
              "    .dataframe tbody tr th:only-of-type {\n",
              "        vertical-align: middle;\n",
              "    }\n",
              "\n",
              "    .dataframe tbody tr th {\n",
              "        vertical-align: top;\n",
              "    }\n",
              "\n",
              "    .dataframe thead th {\n",
              "        text-align: right;\n",
              "    }\n",
              "</style>\n",
              "<table border=\"1\" class=\"dataframe\">\n",
              "  <thead>\n",
              "    <tr style=\"text-align: right;\">\n",
              "      <th></th>\n",
              "      <th>feature</th>\n",
              "      <th>importance</th>\n",
              "    </tr>\n",
              "  </thead>\n",
              "  <tbody>\n",
              "    <tr>\n",
              "      <th>29</th>\n",
              "      <td>V11</td>\n",
              "      <td>0.159254</td>\n",
              "    </tr>\n",
              "    <tr>\n",
              "      <th>17</th>\n",
              "      <td>E10</td>\n",
              "      <td>0.099037</td>\n",
              "    </tr>\n",
              "    <tr>\n",
              "      <th>14</th>\n",
              "      <td>E7</td>\n",
              "      <td>0.060928</td>\n",
              "    </tr>\n",
              "    <tr>\n",
              "      <th>19</th>\n",
              "      <td>V1</td>\n",
              "      <td>0.058520</td>\n",
              "    </tr>\n",
              "    <tr>\n",
              "      <th>13</th>\n",
              "      <td>E6</td>\n",
              "      <td>0.057940</td>\n",
              "    </tr>\n",
              "    <tr>\n",
              "      <th>15</th>\n",
              "      <td>E8</td>\n",
              "      <td>0.057689</td>\n",
              "    </tr>\n",
              "    <tr>\n",
              "      <th>6</th>\n",
              "      <td>P7</td>\n",
              "      <td>0.057068</td>\n",
              "    </tr>\n",
              "    <tr>\n",
              "      <th>5</th>\n",
              "      <td>P6</td>\n",
              "      <td>0.054865</td>\n",
              "    </tr>\n",
              "    <tr>\n",
              "      <th>16</th>\n",
              "      <td>E9</td>\n",
              "      <td>0.053222</td>\n",
              "    </tr>\n",
              "    <tr>\n",
              "      <th>4</th>\n",
              "      <td>P5</td>\n",
              "      <td>0.045415</td>\n",
              "    </tr>\n",
              "    <tr>\n",
              "      <th>24</th>\n",
              "      <td>V6</td>\n",
              "      <td>0.043870</td>\n",
              "    </tr>\n",
              "    <tr>\n",
              "      <th>12</th>\n",
              "      <td>E5</td>\n",
              "      <td>0.035557</td>\n",
              "    </tr>\n",
              "    <tr>\n",
              "      <th>0</th>\n",
              "      <td>P1</td>\n",
              "      <td>0.028058</td>\n",
              "    </tr>\n",
              "    <tr>\n",
              "      <th>22</th>\n",
              "      <td>V4</td>\n",
              "      <td>0.025785</td>\n",
              "    </tr>\n",
              "    <tr>\n",
              "      <th>9</th>\n",
              "      <td>E2</td>\n",
              "      <td>0.022732</td>\n",
              "    </tr>\n",
              "    <tr>\n",
              "      <th>28</th>\n",
              "      <td>V10</td>\n",
              "      <td>0.021170</td>\n",
              "    </tr>\n",
              "    <tr>\n",
              "      <th>26</th>\n",
              "      <td>V8</td>\n",
              "      <td>0.018835</td>\n",
              "    </tr>\n",
              "    <tr>\n",
              "      <th>20</th>\n",
              "      <td>V2</td>\n",
              "      <td>0.017555</td>\n",
              "    </tr>\n",
              "    <tr>\n",
              "      <th>11</th>\n",
              "      <td>E4</td>\n",
              "      <td>0.016564</td>\n",
              "    </tr>\n",
              "    <tr>\n",
              "      <th>8</th>\n",
              "      <td>E1</td>\n",
              "      <td>0.014753</td>\n",
              "    </tr>\n",
              "    <tr>\n",
              "      <th>21</th>\n",
              "      <td>V3</td>\n",
              "      <td>0.011698</td>\n",
              "    </tr>\n",
              "    <tr>\n",
              "      <th>2</th>\n",
              "      <td>P3</td>\n",
              "      <td>0.011473</td>\n",
              "    </tr>\n",
              "    <tr>\n",
              "      <th>3</th>\n",
              "      <td>P4</td>\n",
              "      <td>0.011389</td>\n",
              "    </tr>\n",
              "    <tr>\n",
              "      <th>1</th>\n",
              "      <td>P2</td>\n",
              "      <td>0.005155</td>\n",
              "    </tr>\n",
              "    <tr>\n",
              "      <th>18</th>\n",
              "      <td>E11</td>\n",
              "      <td>0.004099</td>\n",
              "    </tr>\n",
              "    <tr>\n",
              "      <th>23</th>\n",
              "      <td>V5</td>\n",
              "      <td>0.003881</td>\n",
              "    </tr>\n",
              "    <tr>\n",
              "      <th>10</th>\n",
              "      <td>E3</td>\n",
              "      <td>0.003489</td>\n",
              "    </tr>\n",
              "    <tr>\n",
              "      <th>7</th>\n",
              "      <td>P8</td>\n",
              "      <td>0.000000</td>\n",
              "    </tr>\n",
              "    <tr>\n",
              "      <th>25</th>\n",
              "      <td>V7</td>\n",
              "      <td>0.000000</td>\n",
              "    </tr>\n",
              "    <tr>\n",
              "      <th>27</th>\n",
              "      <td>V9</td>\n",
              "      <td>0.000000</td>\n",
              "    </tr>\n",
              "  </tbody>\n",
              "</table>\n",
              "</div>\n",
              "    <div class=\"colab-df-buttons\">\n",
              "\n",
              "  <div class=\"colab-df-container\">\n",
              "    <button class=\"colab-df-convert\" onclick=\"convertToInteractive('df-a4076977-d58d-47a2-9825-3f6b0a16178c')\"\n",
              "            title=\"Convert this dataframe to an interactive table.\"\n",
              "            style=\"display:none;\">\n",
              "\n",
              "  <svg xmlns=\"http://www.w3.org/2000/svg\" height=\"24px\" viewBox=\"0 -960 960 960\">\n",
              "    <path d=\"M120-120v-720h720v720H120Zm60-500h600v-160H180v160Zm220 220h160v-160H400v160Zm0 220h160v-160H400v160ZM180-400h160v-160H180v160Zm440 0h160v-160H620v160ZM180-180h160v-160H180v160Zm440 0h160v-160H620v160Z\"/>\n",
              "  </svg>\n",
              "    </button>\n",
              "\n",
              "  <style>\n",
              "    .colab-df-container {\n",
              "      display:flex;\n",
              "      gap: 12px;\n",
              "    }\n",
              "\n",
              "    .colab-df-convert {\n",
              "      background-color: #E8F0FE;\n",
              "      border: none;\n",
              "      border-radius: 50%;\n",
              "      cursor: pointer;\n",
              "      display: none;\n",
              "      fill: #1967D2;\n",
              "      height: 32px;\n",
              "      padding: 0 0 0 0;\n",
              "      width: 32px;\n",
              "    }\n",
              "\n",
              "    .colab-df-convert:hover {\n",
              "      background-color: #E2EBFA;\n",
              "      box-shadow: 0px 1px 2px rgba(60, 64, 67, 0.3), 0px 1px 3px 1px rgba(60, 64, 67, 0.15);\n",
              "      fill: #174EA6;\n",
              "    }\n",
              "\n",
              "    .colab-df-buttons div {\n",
              "      margin-bottom: 4px;\n",
              "    }\n",
              "\n",
              "    [theme=dark] .colab-df-convert {\n",
              "      background-color: #3B4455;\n",
              "      fill: #D2E3FC;\n",
              "    }\n",
              "\n",
              "    [theme=dark] .colab-df-convert:hover {\n",
              "      background-color: #434B5C;\n",
              "      box-shadow: 0px 1px 3px 1px rgba(0, 0, 0, 0.15);\n",
              "      filter: drop-shadow(0px 1px 2px rgba(0, 0, 0, 0.3));\n",
              "      fill: #FFFFFF;\n",
              "    }\n",
              "  </style>\n",
              "\n",
              "    <script>\n",
              "      const buttonEl =\n",
              "        document.querySelector('#df-a4076977-d58d-47a2-9825-3f6b0a16178c button.colab-df-convert');\n",
              "      buttonEl.style.display =\n",
              "        google.colab.kernel.accessAllowed ? 'block' : 'none';\n",
              "\n",
              "      async function convertToInteractive(key) {\n",
              "        const element = document.querySelector('#df-a4076977-d58d-47a2-9825-3f6b0a16178c');\n",
              "        const dataTable =\n",
              "          await google.colab.kernel.invokeFunction('convertToInteractive',\n",
              "                                                    [key], {});\n",
              "        if (!dataTable) return;\n",
              "\n",
              "        const docLinkHtml = 'Like what you see? Visit the ' +\n",
              "          '<a target=\"_blank\" href=https://colab.research.google.com/notebooks/data_table.ipynb>data table notebook</a>'\n",
              "          + ' to learn more about interactive tables.';\n",
              "        element.innerHTML = '';\n",
              "        dataTable['output_type'] = 'display_data';\n",
              "        await google.colab.output.renderOutput(dataTable, element);\n",
              "        const docLink = document.createElement('div');\n",
              "        docLink.innerHTML = docLinkHtml;\n",
              "        element.appendChild(docLink);\n",
              "      }\n",
              "    </script>\n",
              "  </div>\n",
              "\n",
              "\n",
              "<div id=\"df-0479ca98-7cdc-4493-9f65-b1d23838db61\">\n",
              "  <button class=\"colab-df-quickchart\" onclick=\"quickchart('df-0479ca98-7cdc-4493-9f65-b1d23838db61')\"\n",
              "            title=\"Suggest charts\"\n",
              "            style=\"display:none;\">\n",
              "\n",
              "<svg xmlns=\"http://www.w3.org/2000/svg\" height=\"24px\"viewBox=\"0 0 24 24\"\n",
              "     width=\"24px\">\n",
              "    <g>\n",
              "        <path d=\"M19 3H5c-1.1 0-2 .9-2 2v14c0 1.1.9 2 2 2h14c1.1 0 2-.9 2-2V5c0-1.1-.9-2-2-2zM9 17H7v-7h2v7zm4 0h-2V7h2v10zm4 0h-2v-4h2v4z\"/>\n",
              "    </g>\n",
              "</svg>\n",
              "  </button>\n",
              "\n",
              "<style>\n",
              "  .colab-df-quickchart {\n",
              "      --bg-color: #E8F0FE;\n",
              "      --fill-color: #1967D2;\n",
              "      --hover-bg-color: #E2EBFA;\n",
              "      --hover-fill-color: #174EA6;\n",
              "      --disabled-fill-color: #AAA;\n",
              "      --disabled-bg-color: #DDD;\n",
              "  }\n",
              "\n",
              "  [theme=dark] .colab-df-quickchart {\n",
              "      --bg-color: #3B4455;\n",
              "      --fill-color: #D2E3FC;\n",
              "      --hover-bg-color: #434B5C;\n",
              "      --hover-fill-color: #FFFFFF;\n",
              "      --disabled-bg-color: #3B4455;\n",
              "      --disabled-fill-color: #666;\n",
              "  }\n",
              "\n",
              "  .colab-df-quickchart {\n",
              "    background-color: var(--bg-color);\n",
              "    border: none;\n",
              "    border-radius: 50%;\n",
              "    cursor: pointer;\n",
              "    display: none;\n",
              "    fill: var(--fill-color);\n",
              "    height: 32px;\n",
              "    padding: 0;\n",
              "    width: 32px;\n",
              "  }\n",
              "\n",
              "  .colab-df-quickchart:hover {\n",
              "    background-color: var(--hover-bg-color);\n",
              "    box-shadow: 0 1px 2px rgba(60, 64, 67, 0.3), 0 1px 3px 1px rgba(60, 64, 67, 0.15);\n",
              "    fill: var(--button-hover-fill-color);\n",
              "  }\n",
              "\n",
              "  .colab-df-quickchart-complete:disabled,\n",
              "  .colab-df-quickchart-complete:disabled:hover {\n",
              "    background-color: var(--disabled-bg-color);\n",
              "    fill: var(--disabled-fill-color);\n",
              "    box-shadow: none;\n",
              "  }\n",
              "\n",
              "  .colab-df-spinner {\n",
              "    border: 2px solid var(--fill-color);\n",
              "    border-color: transparent;\n",
              "    border-bottom-color: var(--fill-color);\n",
              "    animation:\n",
              "      spin 1s steps(1) infinite;\n",
              "  }\n",
              "\n",
              "  @keyframes spin {\n",
              "    0% {\n",
              "      border-color: transparent;\n",
              "      border-bottom-color: var(--fill-color);\n",
              "      border-left-color: var(--fill-color);\n",
              "    }\n",
              "    20% {\n",
              "      border-color: transparent;\n",
              "      border-left-color: var(--fill-color);\n",
              "      border-top-color: var(--fill-color);\n",
              "    }\n",
              "    30% {\n",
              "      border-color: transparent;\n",
              "      border-left-color: var(--fill-color);\n",
              "      border-top-color: var(--fill-color);\n",
              "      border-right-color: var(--fill-color);\n",
              "    }\n",
              "    40% {\n",
              "      border-color: transparent;\n",
              "      border-right-color: var(--fill-color);\n",
              "      border-top-color: var(--fill-color);\n",
              "    }\n",
              "    60% {\n",
              "      border-color: transparent;\n",
              "      border-right-color: var(--fill-color);\n",
              "    }\n",
              "    80% {\n",
              "      border-color: transparent;\n",
              "      border-right-color: var(--fill-color);\n",
              "      border-bottom-color: var(--fill-color);\n",
              "    }\n",
              "    90% {\n",
              "      border-color: transparent;\n",
              "      border-bottom-color: var(--fill-color);\n",
              "    }\n",
              "  }\n",
              "</style>\n",
              "\n",
              "  <script>\n",
              "    async function quickchart(key) {\n",
              "      const quickchartButtonEl =\n",
              "        document.querySelector('#' + key + ' button');\n",
              "      quickchartButtonEl.disabled = true;  // To prevent multiple clicks.\n",
              "      quickchartButtonEl.classList.add('colab-df-spinner');\n",
              "      try {\n",
              "        const charts = await google.colab.kernel.invokeFunction(\n",
              "            'suggestCharts', [key], {});\n",
              "      } catch (error) {\n",
              "        console.error('Error during call to suggestCharts:', error);\n",
              "      }\n",
              "      quickchartButtonEl.classList.remove('colab-df-spinner');\n",
              "      quickchartButtonEl.classList.add('colab-df-quickchart-complete');\n",
              "    }\n",
              "    (() => {\n",
              "      let quickchartButtonEl =\n",
              "        document.querySelector('#df-0479ca98-7cdc-4493-9f65-b1d23838db61 button');\n",
              "      quickchartButtonEl.style.display =\n",
              "        google.colab.kernel.accessAllowed ? 'block' : 'none';\n",
              "    })();\n",
              "  </script>\n",
              "</div>\n",
              "\n",
              "  <div id=\"id_92cb1a53-f68d-4783-ac7c-34008f73cccc\">\n",
              "    <style>\n",
              "      .colab-df-generate {\n",
              "        background-color: #E8F0FE;\n",
              "        border: none;\n",
              "        border-radius: 50%;\n",
              "        cursor: pointer;\n",
              "        display: none;\n",
              "        fill: #1967D2;\n",
              "        height: 32px;\n",
              "        padding: 0 0 0 0;\n",
              "        width: 32px;\n",
              "      }\n",
              "\n",
              "      .colab-df-generate:hover {\n",
              "        background-color: #E2EBFA;\n",
              "        box-shadow: 0px 1px 2px rgba(60, 64, 67, 0.3), 0px 1px 3px 1px rgba(60, 64, 67, 0.15);\n",
              "        fill: #174EA6;\n",
              "      }\n",
              "\n",
              "      [theme=dark] .colab-df-generate {\n",
              "        background-color: #3B4455;\n",
              "        fill: #D2E3FC;\n",
              "      }\n",
              "\n",
              "      [theme=dark] .colab-df-generate:hover {\n",
              "        background-color: #434B5C;\n",
              "        box-shadow: 0px 1px 3px 1px rgba(0, 0, 0, 0.15);\n",
              "        filter: drop-shadow(0px 1px 2px rgba(0, 0, 0, 0.3));\n",
              "        fill: #FFFFFF;\n",
              "      }\n",
              "    </style>\n",
              "    <button class=\"colab-df-generate\" onclick=\"generateWithVariable('importances_df')\"\n",
              "            title=\"Generate code using this dataframe.\"\n",
              "            style=\"display:none;\">\n",
              "\n",
              "  <svg xmlns=\"http://www.w3.org/2000/svg\" height=\"24px\"viewBox=\"0 0 24 24\"\n",
              "       width=\"24px\">\n",
              "    <path d=\"M7,19H8.4L18.45,9,17,7.55,7,17.6ZM5,21V16.75L18.45,3.32a2,2,0,0,1,2.83,0l1.4,1.43a1.91,1.91,0,0,1,.58,1.4,1.91,1.91,0,0,1-.58,1.4L9.25,21ZM18.45,9,17,7.55Zm-12,3A5.31,5.31,0,0,0,4.9,8.1,5.31,5.31,0,0,0,1,6.5,5.31,5.31,0,0,0,4.9,4.9,5.31,5.31,0,0,0,6.5,1,5.31,5.31,0,0,0,8.1,4.9,5.31,5.31,0,0,0,12,6.5,5.46,5.46,0,0,0,6.5,12Z\"/>\n",
              "  </svg>\n",
              "    </button>\n",
              "    <script>\n",
              "      (() => {\n",
              "      const buttonEl =\n",
              "        document.querySelector('#id_92cb1a53-f68d-4783-ac7c-34008f73cccc button.colab-df-generate');\n",
              "      buttonEl.style.display =\n",
              "        google.colab.kernel.accessAllowed ? 'block' : 'none';\n",
              "\n",
              "      buttonEl.onclick = () => {\n",
              "        google.colab.notebook.generateWithVariable('importances_df');\n",
              "      }\n",
              "      })();\n",
              "    </script>\n",
              "  </div>\n",
              "\n",
              "    </div>\n",
              "  </div>\n"
            ],
            "application/vnd.google.colaboratory.intrinsic+json": {
              "type": "dataframe",
              "variable_name": "importances_df",
              "summary": "{\n  \"name\": \"importances_df\",\n  \"rows\": 30,\n  \"fields\": [\n    {\n      \"column\": \"feature\",\n      \"properties\": {\n        \"dtype\": \"string\",\n        \"num_unique_values\": 30,\n        \"samples\": [\n          \"P8\",\n          \"V10\",\n          \"P2\"\n        ],\n        \"semantic_type\": \"\",\n        \"description\": \"\"\n      }\n    },\n    {\n      \"column\": \"importance\",\n      \"properties\": {\n        \"dtype\": \"number\",\n        \"std\": 0.034265845683115546,\n        \"min\": 0.0,\n        \"max\": 0.15925426720931057,\n        \"num_unique_values\": 28,\n        \"samples\": [\n          0.04541451990266804,\n          0.0038806713630126772,\n          0.053221937579097885\n        ],\n        \"semantic_type\": \"\",\n        \"description\": \"\"\n      }\n    }\n  ]\n}"
            }
          },
          "metadata": {},
          "execution_count": 26
        }
      ]
    },
    {
      "cell_type": "markdown",
      "source": [
        "# Ada boost classifier"
      ],
      "metadata": {
        "id": "xRWfKSvd-PdY"
      }
    },
    {
      "cell_type": "code",
      "source": [
        "from sklearn.ensemble import AdaBoostClassifier,GradientBoostingClassifier"
      ],
      "metadata": {
        "id": "k-FLJpsw9L2W"
      },
      "execution_count": null,
      "outputs": []
    },
    {
      "cell_type": "code",
      "source": [
        "ada=AdaBoostClassifier(n_estimators=100)\n",
        "ada.fit(x_train,y_train)\n",
        "y_train_ada=ada.predict(x_train)\n",
        "y_hat_test_ada=ada.predict(x_test)"
      ],
      "metadata": {
        "id": "QSuzKvlh-l0j"
      },
      "execution_count": null,
      "outputs": []
    },
    {
      "cell_type": "code",
      "source": [
        "model_eval(y_train,y_train_ada)"
      ],
      "metadata": {
        "colab": {
          "base_uri": "https://localhost:8080/"
        },
        "id": "_Vm3yhR7_DPi",
        "outputId": "60fad38c-f692-4552-b254-0b635091f721"
      },
      "execution_count": null,
      "outputs": [
        {
          "output_type": "stream",
          "name": "stdout",
          "text": [
            "The Accuracy of the model is:  0.86\n",
            "[[160509  42818]\n",
            " [ 24340 255796]]\n",
            "              precision    recall  f1-score   support\n",
            "\n",
            "           0       0.87      0.79      0.83    203327\n",
            "           1       0.86      0.91      0.88    280136\n",
            "\n",
            "    accuracy                           0.86    483463\n",
            "   macro avg       0.86      0.85      0.86    483463\n",
            "weighted avg       0.86      0.86      0.86    483463\n",
            "\n"
          ]
        }
      ]
    },
    {
      "cell_type": "code",
      "source": [
        "model_eval(y_test,y_hat_test_ada)"
      ],
      "metadata": {
        "colab": {
          "base_uri": "https://localhost:8080/"
        },
        "id": "QQ-a9BR8_Vmn",
        "outputId": "dc1de8f5-1473-45d3-86c4-1116081856cc"
      },
      "execution_count": null,
      "outputs": [
        {
          "output_type": "stream",
          "name": "stdout",
          "text": [
            "The Accuracy of the model is:  0.86\n",
            "[[40521 10696]\n",
            " [ 5929 63720]]\n",
            "              precision    recall  f1-score   support\n",
            "\n",
            "           0       0.87      0.79      0.83     51217\n",
            "           1       0.86      0.91      0.88     69649\n",
            "\n",
            "    accuracy                           0.86    120866\n",
            "   macro avg       0.86      0.85      0.86    120866\n",
            "weighted avg       0.86      0.86      0.86    120866\n",
            "\n"
          ]
        }
      ]
    },
    {
      "cell_type": "markdown",
      "source": [
        "# Gradient boosting classifier"
      ],
      "metadata": {
        "id": "aYvChLCfCCsl"
      }
    },
    {
      "cell_type": "code",
      "source": [
        "gb=GradientBoostingClassifier(n_estimators=150)\n",
        "gb.fit(x_train,y_train)\n",
        "y_hat_train_gb=gb.predict(x_train)\n",
        "y_hat_test_gb=gb.predict(x_test)"
      ],
      "metadata": {
        "id": "cvHUZhYV_lt-"
      },
      "execution_count": null,
      "outputs": []
    },
    {
      "cell_type": "code",
      "source": [
        "model_eval(y_train,y_hat_train_gb)"
      ],
      "metadata": {
        "colab": {
          "base_uri": "https://localhost:8080/"
        },
        "id": "P1m1M2wVCo2G",
        "outputId": "f8bee09a-180d-44a8-9cbf-127561a15c0d"
      },
      "execution_count": null,
      "outputs": [
        {
          "output_type": "stream",
          "name": "stdout",
          "text": [
            "The Accuracy of the model is:  0.9\n",
            "[[168085  35242]\n",
            " [ 14131 266005]]\n",
            "              precision    recall  f1-score   support\n",
            "\n",
            "           0       0.92      0.83      0.87    203327\n",
            "           1       0.88      0.95      0.92    280136\n",
            "\n",
            "    accuracy                           0.90    483463\n",
            "   macro avg       0.90      0.89      0.89    483463\n",
            "weighted avg       0.90      0.90      0.90    483463\n",
            "\n"
          ]
        }
      ]
    },
    {
      "cell_type": "code",
      "source": [
        "model_eval(y_test,y_hat_test_gb)"
      ],
      "metadata": {
        "colab": {
          "base_uri": "https://localhost:8080/"
        },
        "id": "tMyIjJnmDNj1",
        "outputId": "79335517-0f80-49ad-a815-adcc4a23a831"
      },
      "execution_count": null,
      "outputs": [
        {
          "output_type": "stream",
          "name": "stdout",
          "text": [
            "The Accuracy of the model is:  0.9\n",
            "[[42318  8899]\n",
            " [ 3449 66200]]\n",
            "              precision    recall  f1-score   support\n",
            "\n",
            "           0       0.92      0.83      0.87     51217\n",
            "           1       0.88      0.95      0.91     69649\n",
            "\n",
            "    accuracy                           0.90    120866\n",
            "   macro avg       0.90      0.89      0.89    120866\n",
            "weighted avg       0.90      0.90      0.90    120866\n",
            "\n"
          ]
        }
      ]
    },
    {
      "cell_type": "markdown",
      "source": [
        "# XGB Classifier"
      ],
      "metadata": {
        "id": "HVBUMMEHQJS9"
      }
    },
    {
      "cell_type": "code",
      "source": [
        "from xgboost import XGBClassifier"
      ],
      "metadata": {
        "id": "thnZsvTmDZju"
      },
      "execution_count": null,
      "outputs": []
    },
    {
      "cell_type": "code",
      "source": [
        "xgb=XGBClassifier(n_estimators=200)\n",
        "xgb.fit(x_train,y_train)\n",
        "y_hat_train_xgb=xgb.predict(x_train)\n",
        "y_hat_test_xgb=xgb.predict(x_test)"
      ],
      "metadata": {
        "id": "aFbJvohcQSwP"
      },
      "execution_count": null,
      "outputs": []
    },
    {
      "cell_type": "code",
      "source": [
        "model_eval(y_train,y_hat_train_xgb)"
      ],
      "metadata": {
        "colab": {
          "base_uri": "https://localhost:8080/"
        },
        "id": "b8MCdMAwQwjE",
        "outputId": "c3c4a099-0c01-43b2-f928-1b0108e84f35"
      },
      "execution_count": null,
      "outputs": [
        {
          "output_type": "stream",
          "name": "stdout",
          "text": [
            "The Accuracy of the model is:  0.97\n",
            "[[190956  12371]\n",
            " [  2008 278128]]\n",
            "              precision    recall  f1-score   support\n",
            "\n",
            "           0       0.99      0.94      0.96    203327\n",
            "           1       0.96      0.99      0.97    280136\n",
            "\n",
            "    accuracy                           0.97    483463\n",
            "   macro avg       0.97      0.97      0.97    483463\n",
            "weighted avg       0.97      0.97      0.97    483463\n",
            "\n"
          ]
        }
      ]
    },
    {
      "cell_type": "code",
      "source": [
        "model_eval(y_test,y_hat_test_xgb)"
      ],
      "metadata": {
        "colab": {
          "base_uri": "https://localhost:8080/"
        },
        "id": "PsbSTngLQ3ob",
        "outputId": "e5cac319-0c27-49c0-ab06-9398493d580d"
      },
      "execution_count": null,
      "outputs": [
        {
          "output_type": "stream",
          "name": "stdout",
          "text": [
            "The Accuracy of the model is:  0.97\n",
            "[[47862  3355]\n",
            " [  623 69026]]\n",
            "              precision    recall  f1-score   support\n",
            "\n",
            "           0       0.99      0.93      0.96     51217\n",
            "           1       0.95      0.99      0.97     69649\n",
            "\n",
            "    accuracy                           0.97    120866\n",
            "   macro avg       0.97      0.96      0.97    120866\n",
            "weighted avg       0.97      0.97      0.97    120866\n",
            "\n"
          ]
        }
      ]
    },
    {
      "cell_type": "code",
      "source": [],
      "metadata": {
        "id": "nuQU4vd3Q97E"
      },
      "execution_count": null,
      "outputs": []
    }
  ]
}